{
 "cells": [
  {
   "cell_type": "code",
   "execution_count": 1,
   "id": "e4555be5",
   "metadata": {},
   "outputs": [],
   "source": [
    "from IPython.display import clear_output"
   ]
  },
  {
   "cell_type": "markdown",
   "id": "cbdd5e06",
   "metadata": {},
   "source": [
    "# To display the board"
   ]
  },
  {
   "cell_type": "code",
   "execution_count": 2,
   "id": "0b1280ef",
   "metadata": {},
   "outputs": [],
   "source": [
    "def display(board):\n",
    "    clear_output()\n",
    "    print(f'''\n",
    "\\x1B[4m{board[0]}\\x1B[0m|\\x1B[4m{board[1]}\\x1B[0m|\\x1B[4m{board[2]}\\x1B[0m\n",
    "\\x1B[4m{board[3]}\\x1B[0m|\\x1B[4m{board[4]}\\x1B[0m|\\x1B[4m{board[5]}\\x1B[0m\n",
    "{board[6]}|{board[7]}|{board[8]}\n",
    "''')"
   ]
  },
  {
   "cell_type": "markdown",
   "id": "a9805c6a",
   "metadata": {},
   "source": [
    "# To take signs for Player 1 and Player 2\n",
    "### Output = (Player 1 marker, Player 2 marker)"
   ]
  },
  {
   "cell_type": "code",
   "execution_count": 3,
   "id": "e28dfd01",
   "metadata": {},
   "outputs": [],
   "source": [
    "def sign():\n",
    "    marker = \"\"\n",
    "    while marker != \"X\" and marker != \"O\":\n",
    "        marker = input(\"Player 1 marker (X or O): \").upper()\n",
    "    if marker == \"X\":\n",
    "        return (marker, \"O\")\n",
    "    elif marker == \"O\":\n",
    "        return (marker, \"X\")\n",
    "    \n",
    "    \n",
    "    "
   ]
  },
  {
   "cell_type": "markdown",
   "id": "db57ac88",
   "metadata": {},
   "source": [
    "# To check for space in chosen postion\n",
    "### Output = True (It's empty)"
   ]
  },
  {
   "cell_type": "code",
   "execution_count": 4,
   "id": "86aa92db",
   "metadata": {},
   "outputs": [],
   "source": [
    "def space_check(board, index):\n",
    "    return board[index] == \" \""
   ]
  },
  {
   "cell_type": "markdown",
   "id": "0109c452",
   "metadata": {},
   "source": [
    "# To check if board has any space left\n",
    "### Output = True (Board is Full)"
   ]
  },
  {
   "cell_type": "code",
   "execution_count": 5,
   "id": "eb345417",
   "metadata": {},
   "outputs": [],
   "source": [
    "def board_full_check(board):\n",
    "    for i in range(0,9):\n",
    "        if space_check(board, i):\n",
    "            return False\n",
    "    return True\n",
    "        "
   ]
  },
  {
   "cell_type": "markdown",
   "id": "712687d6",
   "metadata": {},
   "source": [
    "# Turn count\n",
    "### Output = Number (nth turn)"
   ]
  },
  {
   "cell_type": "code",
   "execution_count": 7,
   "id": "eeb09eca",
   "metadata": {},
   "outputs": [],
   "source": [
    "def turn_num(board):\n",
    "    return 10 - board.count(\" \") \n",
    "\n",
    "        "
   ]
  },
  {
   "cell_type": "markdown",
   "id": "1c7f0737",
   "metadata": {},
   "source": [
    "# Which Player's Turn \n",
    "### Output = Player \"A\" or \"B\""
   ]
  },
  {
   "cell_type": "code",
   "execution_count": 8,
   "id": "f40d16e8",
   "metadata": {},
   "outputs": [],
   "source": [
    "def turn_player(board):\n",
    "    if turn_num(board)%2 == 0:\n",
    "        return \"B\"\n",
    "    else:\n",
    "        return \"A\""
   ]
  },
  {
   "cell_type": "markdown",
   "id": "9193b9c3",
   "metadata": {},
   "source": [
    "# Select the marker as per turn\n",
    "### Output = \"X\" or \"O\""
   ]
  },
  {
   "cell_type": "code",
   "execution_count": 9,
   "id": "af19139b",
   "metadata": {},
   "outputs": [],
   "source": [
    "def marker_select(board, markers, player):\n",
    "    A,B = markers\n",
    "    if player == \"A\":\n",
    "        return A\n",
    "    else:\n",
    "        return B"
   ]
  },
  {
   "cell_type": "markdown",
   "id": "1c192dd6",
   "metadata": {},
   "source": [
    "# Place the marker in chosen position\n",
    "### Output = Just adds the marker in list"
   ]
  },
  {
   "cell_type": "code",
   "execution_count": 14,
   "id": "7a748a6b",
   "metadata": {},
   "outputs": [],
   "source": [
    "def place(board, markers, player):\n",
    "    i = 0\n",
    "    valid = [1,2,3,4,5,6,7,8,9]\n",
    "    while i not in valid:  \n",
    "        i = input(\"Enter the place (1-9): \")\n",
    "        if i not in valid:\n",
    "            clear_output()\n",
    "            print(\"Enter a valid position!\")\n",
    "        elif space_check(board,i-1) == False:\n",
    "            i = 0\n",
    "            clear_output()\n",
    "            print(\"Enter a valid position!\")\n",
    "            continue\n",
    "        else:\n",
    "            i = int(i)\n",
    "    board[i-1] = marker_select(board, markers, player)\n",
    "    \n",
    "    "
   ]
  },
  {
   "cell_type": "markdown",
   "id": "5a078533",
   "metadata": {},
   "source": [
    "# Check for the win condition\n",
    "### Output = True (Current turn player won)"
   ]
  },
  {
   "cell_type": "code",
   "execution_count": 10,
   "id": "5a23464f",
   "metadata": {},
   "outputs": [],
   "source": [
    "def win(board, markers, player):\n",
    "    marker = marker_select(board, markers, player)\n",
    "    return (board[0] == board[1] == board[2] == marker or board[3] == board[4] == board[5] == marker or board[6] == board[7] == board[8] == marker or board[0] == board[3] == board[6] == marker or board[1] == board[4] == board[7] == marker or board[2] == board[5] == board[8] == marker or board[0] == board[4] == board[8] == marker or board[2] == board[4] == board[6] == marker)\n"
   ]
  },
  {
   "cell_type": "markdown",
   "id": "c1abcc74",
   "metadata": {},
   "source": [
    "# Replay the Game?\n",
    "### Output = True (Player wants to replat the game)"
   ]
  },
  {
   "cell_type": "code",
   "execution_count": 15,
   "id": "a25c2cef",
   "metadata": {},
   "outputs": [],
   "source": [
    "def replay(board, markers, player):\n",
    "    if board_full_check(board) or win(board, markers, player):\n",
    "        r = \" \"\n",
    "        valid = [\"Y\", \"N\"]\n",
    "        while r not in valid:\n",
    "            r = input(\"Replay? (Y or N): \").upper()\n",
    "            if r not in valid:\n",
    "                clear_output()\n",
    "                print(\"Enter a valid input!\")\n",
    "        if r == \"Y\":\n",
    "            return True\n",
    "        else:\n",
    "            return False\n",
    "        "
   ]
  },
  {
   "cell_type": "markdown",
   "id": "88b6043e",
   "metadata": {},
   "source": [
    "# Play the game of Tic Tac Toe\n",
    "## Procedure:\n",
    "        1. Diplays board\n",
    "        2. Asks for player 1 marker\n",
    "        3. Asks for positioning of marker\n",
    "        4. Display's board with marker placed\n",
    "        5. When won can select to replay or not\n"
   ]
  },
  {
   "cell_type": "code",
   "execution_count": 16,
   "id": "8250c0ad",
   "metadata": {},
   "outputs": [],
   "source": [
    "def play_tictactoe(board):\n",
    "    display(board)\n",
    "    markers = sign()\n",
    "    while True:\n",
    "        player = turn_player(board)\n",
    "        place(board, markers, player)\n",
    "        display(board)\n",
    "        if win(board, markers, player):\n",
    "            display(board)\n",
    "            print(f\"Player {player} Won!\")\n",
    "            break\n",
    "    if replay(board, markers, player):\n",
    "        play_TicTacToe(board)\n",
    "    else:\n",
    "        clear_output()\n",
    "        print(\"Game Over!\")\n",
    "        "
   ]
  },
  {
   "cell_type": "markdown",
   "id": "181a71e1",
   "metadata": {},
   "source": [
    "# Starting Tic Tac Toe"
   ]
  },
  {
   "cell_type": "code",
   "execution_count": 18,
   "id": "d393c66a",
   "metadata": {},
   "outputs": [
    {
     "name": "stdout",
     "output_type": "stream",
     "text": [
      "Game Over!\n"
     ]
    }
   ],
   "source": [
    "board = [\" \", \" \", \" \", \" \", \" \", \" \", \" \", \" \", \" \"]\n",
    "play_tictactoe(board)"
   ]
  },
  {
   "cell_type": "markdown",
   "id": "c3201def",
   "metadata": {},
   "source": [
    "# Done"
   ]
  },
  {
   "cell_type": "code",
   "execution_count": null,
   "id": "ecff8bc1",
   "metadata": {},
   "outputs": [],
   "source": []
  }
 ],
 "metadata": {
  "kernelspec": {
   "display_name": "Python 3 (ipykernel)",
   "language": "python",
   "name": "python3"
  },
  "language_info": {
   "codemirror_mode": {
    "name": "ipython",
    "version": 3
   },
   "file_extension": ".py",
   "mimetype": "text/x-python",
   "name": "python",
   "nbconvert_exporter": "python",
   "pygments_lexer": "ipython3",
   "version": "3.9.13"
  }
 },
 "nbformat": 4,
 "nbformat_minor": 5
}
